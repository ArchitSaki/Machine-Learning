{
 "cells": [
  {
   "cell_type": "code",
   "execution_count": 1,
   "id": "bc091012-54c5-40d8-b62e-5a59c52dc0eb",
   "metadata": {},
   "outputs": [],
   "source": [
    "import numpy as np\n",
    "import pandas as pd\n",
    "import matplotlib.pyplot as plt\n",
    "import seaborn as sns\n",
    "import warnings\n",
    "warnings.filterwarnings('ignore')"
   ]
  },
  {
   "cell_type": "code",
   "execution_count": 2,
   "id": "864d7e92-f7be-44b5-af18-12736a9dfa43",
   "metadata": {},
   "outputs": [],
   "source": [
    "train=pd.read_csv('train (1).csv')\n",
    "test=pd.read_csv('test.csv')"
   ]
  },
  {
   "cell_type": "code",
   "execution_count": 3,
   "id": "a4cdae51-ec64-4e20-8165-544fe94c3df3",
   "metadata": {},
   "outputs": [
    {
     "name": "stdout",
     "output_type": "stream",
     "text": [
      "(891, 12)\n",
      "(418, 11)\n"
     ]
    }
   ],
   "source": [
    "print(train.shape)\n",
    "print(test.shape)"
   ]
  },
  {
   "cell_type": "code",
   "execution_count": 4,
   "id": "9d32399d-899c-4def-8e1a-8a1e193e17a2",
   "metadata": {},
   "outputs": [
    {
     "name": "stdout",
     "output_type": "stream",
     "text": [
      "<class 'pandas.core.frame.DataFrame'>\n",
      "RangeIndex: 891 entries, 0 to 890\n",
      "Data columns (total 12 columns):\n",
      " #   Column       Non-Null Count  Dtype  \n",
      "---  ------       --------------  -----  \n",
      " 0   PassengerId  891 non-null    int64  \n",
      " 1   Survived     891 non-null    int64  \n",
      " 2   Pclass       891 non-null    int64  \n",
      " 3   Name         891 non-null    object \n",
      " 4   Sex          891 non-null    object \n",
      " 5   Age          714 non-null    float64\n",
      " 6   SibSp        891 non-null    int64  \n",
      " 7   Parch        891 non-null    int64  \n",
      " 8   Ticket       891 non-null    object \n",
      " 9   Fare         891 non-null    float64\n",
      " 10  Cabin        204 non-null    object \n",
      " 11  Embarked     889 non-null    object \n",
      "dtypes: float64(2), int64(5), object(5)\n",
      "memory usage: 83.7+ KB\n"
     ]
    }
   ],
   "source": [
    "train.info()\n"
   ]
  },
  {
   "cell_type": "code",
   "execution_count": 5,
   "id": "3102bf64-231a-49fa-91d3-737f06f2a2d1",
   "metadata": {},
   "outputs": [],
   "source": [
    "train['Embarked'].fillna('S',inplace=True)\n"
   ]
  },
  {
   "cell_type": "code",
   "execution_count": 6,
   "id": "90708671-06b9-4a35-8e5d-c7d67fc75ecb",
   "metadata": {},
   "outputs": [],
   "source": [
    "test['Fare'].fillna(test['Fare'].mean(), inplace=True)\n"
   ]
  },
  {
   "cell_type": "code",
   "execution_count": 7,
   "id": "591b5da3-53f8-4728-b1ff-4768d62901f7",
   "metadata": {},
   "outputs": [
    {
     "data": {
      "text/plain": [
       "PassengerId      0\n",
       "Survived         0\n",
       "Pclass           0\n",
       "Name             0\n",
       "Sex              0\n",
       "Age            177\n",
       "SibSp            0\n",
       "Parch            0\n",
       "Ticket           0\n",
       "Fare             0\n",
       "Cabin          687\n",
       "Embarked         0\n",
       "dtype: int64"
      ]
     },
     "execution_count": 7,
     "metadata": {},
     "output_type": "execute_result"
    }
   ],
   "source": [
    "train.isnull().sum()\n"
   ]
  },
  {
   "cell_type": "code",
   "execution_count": 8,
   "id": "812825e8-c8b5-42cc-a269-07f843c82df3",
   "metadata": {},
   "outputs": [],
   "source": [
    "train['Age'].fillna(train['Age'].mean(), inplace=True) \n"
   ]
  },
  {
   "cell_type": "code",
   "execution_count": 9,
   "id": "92c0a558-c848-47c5-8bdd-d39cae29182d",
   "metadata": {},
   "outputs": [
    {
     "data": {
      "text/plain": [
       "PassengerId      0\n",
       "Survived         0\n",
       "Pclass           0\n",
       "Name             0\n",
       "Sex              0\n",
       "Age              0\n",
       "SibSp            0\n",
       "Parch            0\n",
       "Ticket           0\n",
       "Fare             0\n",
       "Cabin          687\n",
       "Embarked         0\n",
       "dtype: int64"
      ]
     },
     "execution_count": 9,
     "metadata": {},
     "output_type": "execute_result"
    }
   ],
   "source": [
    "train.isnull().sum()\n"
   ]
  },
  {
   "cell_type": "code",
   "execution_count": 10,
   "id": "fbe1798d-7481-4104-abee-ea8da5951316",
   "metadata": {},
   "outputs": [],
   "source": [
    "test['Age'].fillna(test['Age'].mean(), inplace=True) \n"
   ]
  },
  {
   "cell_type": "code",
   "execution_count": 11,
   "id": "f7e8e968-e955-4460-bb58-de5d615e59ad",
   "metadata": {},
   "outputs": [
    {
     "data": {
      "text/plain": [
       "PassengerId      0\n",
       "Pclass           0\n",
       "Name             0\n",
       "Sex              0\n",
       "Age              0\n",
       "SibSp            0\n",
       "Parch            0\n",
       "Ticket           0\n",
       "Fare             0\n",
       "Cabin          327\n",
       "Embarked         0\n",
       "dtype: int64"
      ]
     },
     "execution_count": 11,
     "metadata": {},
     "output_type": "execute_result"
    }
   ],
   "source": [
    "test.isnull().sum()\n"
   ]
  },
  {
   "cell_type": "code",
   "execution_count": 12,
   "id": "4f094c02-dbbf-45f1-aea7-fc8a1402f8ab",
   "metadata": {},
   "outputs": [
    {
     "data": {
      "text/plain": [
       "PassengerId      0\n",
       "Survived         0\n",
       "Pclass           0\n",
       "Name             0\n",
       "Sex              0\n",
       "Age              0\n",
       "SibSp            0\n",
       "Parch            0\n",
       "Ticket           0\n",
       "Fare             0\n",
       "Cabin          687\n",
       "Embarked         0\n",
       "dtype: int64"
      ]
     },
     "execution_count": 12,
     "metadata": {},
     "output_type": "execute_result"
    }
   ],
   "source": [
    "train.isnull().sum()\n"
   ]
  },
  {
   "cell_type": "code",
   "execution_count": null,
   "id": "35dec053-f541-485e-8d29-f84ceadf7c3c",
   "metadata": {},
   "outputs": [],
   "source": []
  },
  {
   "cell_type": "code",
   "execution_count": 13,
   "id": "14bc862c-da5c-4cb6-ad19-7c45f78af0a3",
   "metadata": {},
   "outputs": [
    {
     "data": {
      "text/html": [
       "<div>\n",
       "<style scoped>\n",
       "    .dataframe tbody tr th:only-of-type {\n",
       "        vertical-align: middle;\n",
       "    }\n",
       "\n",
       "    .dataframe tbody tr th {\n",
       "        vertical-align: top;\n",
       "    }\n",
       "\n",
       "    .dataframe thead th {\n",
       "        text-align: right;\n",
       "    }\n",
       "</style>\n",
       "<table border=\"1\" class=\"dataframe\">\n",
       "  <thead>\n",
       "    <tr style=\"text-align: right;\">\n",
       "      <th></th>\n",
       "      <th>Survived</th>\n",
       "    </tr>\n",
       "    <tr>\n",
       "      <th>Pclass</th>\n",
       "      <th></th>\n",
       "    </tr>\n",
       "  </thead>\n",
       "  <tbody>\n",
       "    <tr>\n",
       "      <th>1</th>\n",
       "      <td>0.629630</td>\n",
       "    </tr>\n",
       "    <tr>\n",
       "      <th>2</th>\n",
       "      <td>0.472826</td>\n",
       "    </tr>\n",
       "    <tr>\n",
       "      <th>3</th>\n",
       "      <td>0.242363</td>\n",
       "    </tr>\n",
       "  </tbody>\n",
       "</table>\n",
       "</div>"
      ],
      "text/plain": [
       "        Survived\n",
       "Pclass          \n",
       "1       0.629630\n",
       "2       0.472826\n",
       "3       0.242363"
      ]
     },
     "execution_count": 13,
     "metadata": {},
     "output_type": "execute_result"
    }
   ],
   "source": [
    "train[['Pclass','Survived']].groupby('Pclass').mean()\n"
   ]
  },
  {
   "cell_type": "code",
   "execution_count": 14,
   "id": "c8b8f904-96b3-4623-8b21-ab1d2b83461a",
   "metadata": {},
   "outputs": [
    {
     "data": {
      "text/html": [
       "<div>\n",
       "<style scoped>\n",
       "    .dataframe tbody tr th:only-of-type {\n",
       "        vertical-align: middle;\n",
       "    }\n",
       "\n",
       "    .dataframe tbody tr th {\n",
       "        vertical-align: top;\n",
       "    }\n",
       "\n",
       "    .dataframe thead th {\n",
       "        text-align: right;\n",
       "    }\n",
       "</style>\n",
       "<table border=\"1\" class=\"dataframe\">\n",
       "  <thead>\n",
       "    <tr style=\"text-align: right;\">\n",
       "      <th></th>\n",
       "      <th>Survived</th>\n",
       "    </tr>\n",
       "    <tr>\n",
       "      <th>Sex</th>\n",
       "      <th></th>\n",
       "    </tr>\n",
       "  </thead>\n",
       "  <tbody>\n",
       "    <tr>\n",
       "      <th>female</th>\n",
       "      <td>0.742038</td>\n",
       "    </tr>\n",
       "    <tr>\n",
       "      <th>male</th>\n",
       "      <td>0.188908</td>\n",
       "    </tr>\n",
       "  </tbody>\n",
       "</table>\n",
       "</div>"
      ],
      "text/plain": [
       "        Survived\n",
       "Sex             \n",
       "female  0.742038\n",
       "male    0.188908"
      ]
     },
     "execution_count": 14,
     "metadata": {},
     "output_type": "execute_result"
    }
   ],
   "source": [
    "train[['Sex','Survived']].groupby('Sex').mean()\n"
   ]
  },
  {
   "cell_type": "code",
   "execution_count": 15,
   "id": "d393213d-60b4-48df-82c5-84014a9a750d",
   "metadata": {},
   "outputs": [
    {
     "data": {
      "text/html": [
       "<div>\n",
       "<style scoped>\n",
       "    .dataframe tbody tr th:only-of-type {\n",
       "        vertical-align: middle;\n",
       "    }\n",
       "\n",
       "    .dataframe tbody tr th {\n",
       "        vertical-align: top;\n",
       "    }\n",
       "\n",
       "    .dataframe thead th {\n",
       "        text-align: right;\n",
       "    }\n",
       "</style>\n",
       "<table border=\"1\" class=\"dataframe\">\n",
       "  <thead>\n",
       "    <tr style=\"text-align: right;\">\n",
       "      <th></th>\n",
       "      <th>Survived</th>\n",
       "    </tr>\n",
       "    <tr>\n",
       "      <th>Embarked</th>\n",
       "      <th></th>\n",
       "    </tr>\n",
       "  </thead>\n",
       "  <tbody>\n",
       "    <tr>\n",
       "      <th>C</th>\n",
       "      <td>0.553571</td>\n",
       "    </tr>\n",
       "    <tr>\n",
       "      <th>Q</th>\n",
       "      <td>0.389610</td>\n",
       "    </tr>\n",
       "    <tr>\n",
       "      <th>S</th>\n",
       "      <td>0.339009</td>\n",
       "    </tr>\n",
       "  </tbody>\n",
       "</table>\n",
       "</div>"
      ],
      "text/plain": [
       "          Survived\n",
       "Embarked          \n",
       "C         0.553571\n",
       "Q         0.389610\n",
       "S         0.339009"
      ]
     },
     "execution_count": 15,
     "metadata": {},
     "output_type": "execute_result"
    }
   ],
   "source": [
    "train[['Embarked','Survived']].groupby('Embarked').mean()\n"
   ]
  },
  {
   "cell_type": "code",
   "execution_count": 16,
   "id": "c00465a6-17d2-4ab7-a9c5-01253aadce08",
   "metadata": {},
   "outputs": [
    {
     "data": {
      "text/plain": [
       "np.float64(29.69911764705882)"
      ]
     },
     "execution_count": 16,
     "metadata": {},
     "output_type": "execute_result"
    }
   ],
   "source": [
    "train['Age'].mean()"
   ]
  },
  {
   "cell_type": "code",
   "execution_count": 17,
   "id": "b3706f9f-78e6-4910-87c4-ca33db8d330c",
   "metadata": {},
   "outputs": [
    {
     "data": {
      "text/plain": [
       "<Axes: xlabel='Age', ylabel='Density'>"
      ]
     },
     "execution_count": 17,
     "metadata": {},
     "output_type": "execute_result"
    },
    {
     "data": {
      "image/png": "[encoded data removed]",
      "text/plain": [
       "<Figure size 640x480 with 1 Axes>"
      ]
     },
     "metadata": {},
     "output_type": "display_data"
    }
   ],
   "source": [
    "sns.distplot(train['Age'])"
   ]
  },
  {
   "cell_type": "code",
   "execution_count": 18,
   "id": "adfac9d9-fbc4-4cdf-8672-d0f5be46d0f7",
   "metadata": {},
   "outputs": [
    {
     "data": {
      "text/plain": [
       "<Axes: ylabel='Age'>"
      ]
     },
     "execution_count": 18,
     "metadata": {},
     "output_type": "execute_result"
    },
    {
     "data": {
      "image/png": "[encoded data removed]",
      "text/plain": [
       "<Figure size 640x480 with 1 Axes>"
      ]
     },
     "metadata": {},
     "output_type": "display_data"
    }
   ],
   "source": [
    "sns.boxplot(train['Age'])\n"
   ]
  },
  {
   "cell_type": "code",
   "execution_count": 19,
   "id": "1681a12d-fd18-4881-ada2-5635af1636bc",
   "metadata": {},
   "outputs": [],
   "source": [
    "PassengerId=test['PassengerId']"
   ]
  },
  {
   "cell_type": "code",
   "execution_count": 20,
   "id": "5eaaa337-90de-436b-8ebd-17af633b0a38",
   "metadata": {},
   "outputs": [],
   "source": [
    "train.drop(columns=['PassengerId','Ticket','Cabin'],inplace=True)\n",
    "test.drop(columns=['PassengerId','Ticket','Cabin'],inplace=True)"
   ]
  },
  {
   "cell_type": "code",
   "execution_count": 21,
   "id": "120a5da2-a67b-495f-a8df-6bab3071a78c",
   "metadata": {},
   "outputs": [
    {
     "data": {
      "text/plain": [
       "Survived    0\n",
       "Pclass      0\n",
       "Name        0\n",
       "Sex         0\n",
       "Age         0\n",
       "SibSp       0\n",
       "Parch       0\n",
       "Fare        0\n",
       "Embarked    0\n",
       "dtype: int64"
      ]
     },
     "execution_count": 21,
     "metadata": {},
     "output_type": "execute_result"
    }
   ],
   "source": [
    "train.isnull().sum()\n"
   ]
  },
  {
   "cell_type": "code",
   "execution_count": 22,
   "id": "99364ee9-2d0b-4e93-a6ca-9c7d139f8eb9",
   "metadata": {},
   "outputs": [
    {
     "data": {
      "text/plain": [
       "<Axes: xlabel='Fare', ylabel='Density'>"
      ]
     },
     "execution_count": 22,
     "metadata": {},
     "output_type": "execute_result"
    },
    {
     "data": {
      "image/png": "[encoded data removed]",
      "text/plain": [
       "<Figure size 640x480 with 1 Axes>"
      ]
     },
     "metadata": {},
     "output_type": "display_data"
    }
   ],
   "source": [
    "sns.distplot(train['Fare'])\n"
   ]
  },
  {
   "cell_type": "code",
   "execution_count": 23,
   "id": "5fc8be57-46e7-4b6a-8ca8-f58667e4088d",
   "metadata": {},
   "outputs": [
    {
     "data": {
      "text/plain": [
       "np.float64(32.204207968574636)"
      ]
     },
     "execution_count": 23,
     "metadata": {},
     "output_type": "execute_result"
    }
   ],
   "source": [
    "train['Fare'].mean()"
   ]
  },
  {
   "cell_type": "code",
   "execution_count": 24,
   "id": "46c359d0-d809-446f-b22c-85e99e7e0c72",
   "metadata": {},
   "outputs": [
    {
     "data": {
      "text/plain": [
       "<Axes: ylabel='Fare'>"
      ]
     },
     "execution_count": 24,
     "metadata": {},
     "output_type": "execute_result"
    },
    {
     "data": {
      "image/png": "[encoded data removed]",
      "text/plain": [
       "<Figure size 640x480 with 1 Axes>"
      ]
     },
     "metadata": {},
     "output_type": "display_data"
    }
   ],
   "source": [
    "sns.boxplot(train['Fare'])\n"
   ]
  },
  {
   "cell_type": "code",
   "execution_count": 25,
   "id": "4eb787b9-3bb8-4e54-902b-793cdd2128e2",
   "metadata": {},
   "outputs": [],
   "source": [
    "train.drop(columns=['Name'],inplace=True)\n",
    "test.drop(columns=['Name'],inplace=True)"
   ]
  },
  {
   "cell_type": "code",
   "execution_count": 26,
   "id": "18b1601e-b70c-4a3c-bca5-bbb8c5c37848",
   "metadata": {},
   "outputs": [],
   "source": [
    "train['family']=train['SibSp'] + train['Parch'] + 1\n",
    "test['family']=test['SibSp'] + test['Parch'] + 1"
   ]
  },
  {
   "cell_type": "code",
   "execution_count": 27,
   "id": "5766b24e-a8c9-489b-b7c0-53b3166dbe60",
   "metadata": {},
   "outputs": [],
   "source": [
    "train.drop(columns=['SibSp','Parch'],inplace=True)\n",
    "test.drop(columns=['SibSp','Parch'],inplace=True)"
   ]
  },
  {
   "cell_type": "code",
   "execution_count": 28,
   "id": "82f24393-a26b-4682-8cda-673b37f91ca7",
   "metadata": {},
   "outputs": [
    {
     "data": {
      "text/plain": [
       "family\n",
       "1     537\n",
       "2     161\n",
       "3     102\n",
       "4      29\n",
       "6      22\n",
       "5      15\n",
       "7      12\n",
       "11      7\n",
       "8       6\n",
       "Name: count, dtype: int64"
      ]
     },
     "execution_count": 28,
     "metadata": {},
     "output_type": "execute_result"
    }
   ],
   "source": [
    "train['family'].value_counts()\n"
   ]
  },
  {
   "cell_type": "code",
   "execution_count": 29,
   "id": "834222a2-1065-4804-b505-117e6319e5e6",
   "metadata": {},
   "outputs": [
    {
     "data": {
      "text/html": [
       "<div>\n",
       "<style scoped>\n",
       "    .dataframe tbody tr th:only-of-type {\n",
       "        vertical-align: middle;\n",
       "    }\n",
       "\n",
       "    .dataframe tbody tr th {\n",
       "        vertical-align: top;\n",
       "    }\n",
       "\n",
       "    .dataframe thead th {\n",
       "        text-align: right;\n",
       "    }\n",
       "</style>\n",
       "<table border=\"1\" class=\"dataframe\">\n",
       "  <thead>\n",
       "    <tr style=\"text-align: right;\">\n",
       "      <th></th>\n",
       "      <th>Survived</th>\n",
       "    </tr>\n",
       "    <tr>\n",
       "      <th>family</th>\n",
       "      <th></th>\n",
       "    </tr>\n",
       "  </thead>\n",
       "  <tbody>\n",
       "    <tr>\n",
       "      <th>1</th>\n",
       "      <td>0.303538</td>\n",
       "    </tr>\n",
       "    <tr>\n",
       "      <th>2</th>\n",
       "      <td>0.552795</td>\n",
       "    </tr>\n",
       "    <tr>\n",
       "      <th>3</th>\n",
       "      <td>0.578431</td>\n",
       "    </tr>\n",
       "    <tr>\n",
       "      <th>4</th>\n",
       "      <td>0.724138</td>\n",
       "    </tr>\n",
       "    <tr>\n",
       "      <th>5</th>\n",
       "      <td>0.200000</td>\n",
       "    </tr>\n",
       "    <tr>\n",
       "      <th>6</th>\n",
       "      <td>0.136364</td>\n",
       "    </tr>\n",
       "    <tr>\n",
       "      <th>7</th>\n",
       "      <td>0.333333</td>\n",
       "    </tr>\n",
       "    <tr>\n",
       "      <th>8</th>\n",
       "      <td>0.000000</td>\n",
       "    </tr>\n",
       "    <tr>\n",
       "      <th>11</th>\n",
       "      <td>0.000000</td>\n",
       "    </tr>\n",
       "  </tbody>\n",
       "</table>\n",
       "</div>"
      ],
      "text/plain": [
       "        Survived\n",
       "family          \n",
       "1       0.303538\n",
       "2       0.552795\n",
       "3       0.578431\n",
       "4       0.724138\n",
       "5       0.200000\n",
       "6       0.136364\n",
       "7       0.333333\n",
       "8       0.000000\n",
       "11      0.000000"
      ]
     },
     "execution_count": 29,
     "metadata": {},
     "output_type": "execute_result"
    }
   ],
   "source": [
    "train[['family','Survived']].groupby('family').mean()\n"
   ]
  },
  {
   "cell_type": "code",
   "execution_count": 30,
   "id": "a59f4b6b-2ccd-4a61-9875-bcefc219c47c",
   "metadata": {},
   "outputs": [],
   "source": [
    "def family_size(number):\n",
    "    if number==1:\n",
    "        return \"Alone\"\n",
    "    elif number>1 and number <5:\n",
    "        return \"Small\"\n",
    "    else:\n",
    "        return \"Large\""
   ]
  },
  {
   "cell_type": "code",
   "execution_count": 31,
   "id": "5aee7eab-3624-4c62-8d1c-dccd2e48a253",
   "metadata": {},
   "outputs": [],
   "source": [
    "train['family_size']=train['family'].apply(family_size)\n",
    "test['family_size']=test['family'].apply(family_size)"
   ]
  },
  {
   "cell_type": "code",
   "execution_count": 32,
   "id": "ecb08016-b22b-4c63-9327-27abb1ee548a",
   "metadata": {},
   "outputs": [],
   "source": [
    "train.drop(columns=['family'],inplace=True)\n",
    "test.drop(columns=['family'],inplace=True)"
   ]
  },
  {
   "cell_type": "code",
   "execution_count": 33,
   "id": "a57522bc-c0d5-4a46-b8d1-6aefb7ebe2e4",
   "metadata": {},
   "outputs": [
    {
     "data": {
      "text/plain": [
       "array([0, 1, 1, 1, 0, 0, 0, 0, 1, 1, 1, 1, 0, 0, 0, 1, 0, 1, 0, 1, 0, 1,\n",
       "       1, 1, 0, 1, 0, 0, 1, 0, 0, 1, 1, 0, 0, 0, 1, 0, 0, 1, 0, 0, 0, 1,\n",
       "       1, 0, 0, 1, 0, 0, 0, 0, 1, 1, 0, 1, 1, 0, 1, 0, 0, 1, 0, 0, 0, 1,\n",
       "       1, 0, 1, 0, 0, 0, 0, 0, 1, 0, 0, 0, 1, 1, 0, 1, 1, 0, 1, 1, 0, 0,\n",
       "       1, 0, 0, 0, 0, 0, 0, 0, 0, 1, 1, 0, 0, 0, 0, 0, 0, 0, 1, 1, 0, 1,\n",
       "       0, 0, 0, 0, 0, 0, 0, 0, 0, 0, 0, 0, 0, 1, 0, 1, 0, 1, 1, 0, 0, 0,\n",
       "       0, 1, 0, 0, 1, 0, 0, 0, 0, 1, 1, 0, 0, 0, 1, 0, 0, 0, 0, 1, 0, 0,\n",
       "       0, 0, 1, 0, 0, 0, 0, 1, 0, 0, 0, 1, 1, 0, 0, 0, 0, 0, 1, 0, 0, 0,\n",
       "       0, 0, 0, 0, 0, 0, 0, 1, 1, 0, 1, 1, 0, 0, 1, 0, 1, 1, 1, 1, 0, 0,\n",
       "       1, 0, 0, 0, 0, 0, 1, 0, 0, 1, 1, 1, 0, 1, 0, 0, 0, 1, 1, 0, 1, 0,\n",
       "       1, 0, 0, 0, 1, 0, 1, 0, 0, 0, 1, 0, 0, 1, 0, 0, 0, 1, 0, 0, 0, 1,\n",
       "       0, 0, 0, 0, 0, 1, 1, 0, 0, 0, 0, 0, 0, 1, 1, 1, 1, 1, 0, 1, 0, 0,\n",
       "       0, 0, 0, 1, 1, 1, 0, 1, 1, 0, 1, 1, 0, 0, 0, 1, 0, 0, 0, 1, 0, 0,\n",
       "       1, 0, 1, 1, 1, 1, 0, 0, 0, 0, 0, 0, 1, 1, 1, 1, 0, 1, 0, 1, 1, 1,\n",
       "       0, 1, 1, 1, 0, 0, 0, 1, 1, 0, 1, 1, 0, 0, 1, 1, 0, 1, 0, 1, 1, 1,\n",
       "       1, 0, 0, 0, 1, 0, 0, 1, 1, 0, 1, 1, 0, 0, 0, 1, 1, 1, 1, 0, 0, 0,\n",
       "       0, 0, 0, 0, 1, 0, 1, 1, 0, 0, 0, 0, 0, 0, 1, 1, 1, 1, 1, 0, 0, 0,\n",
       "       0, 1, 1, 0, 0, 0, 1, 1, 0, 1, 0, 0, 0, 1, 0, 1, 1, 1, 0, 1, 1, 0,\n",
       "       0, 0, 0, 1, 1, 0, 0, 0, 0, 0, 0, 1, 0, 0, 0, 0, 1, 0, 1, 0, 1, 1,\n",
       "       0, 0, 0, 0, 0, 0, 0, 0, 1, 1, 0, 1, 1, 1, 1, 0, 0, 1, 0, 1, 0, 0,\n",
       "       1, 0, 0, 1, 1, 1, 1, 1, 1, 1, 0, 0, 0, 1, 0, 1, 0, 1, 1, 0, 1, 0,\n",
       "       0, 0, 0, 0, 0, 0, 0, 1, 0, 0, 1, 1, 0, 0, 0, 0, 0, 1, 0, 0, 0, 1,\n",
       "       1, 0, 1, 0, 0, 1, 0, 0, 0, 0, 0, 0, 1, 0, 0, 0, 0, 0, 0, 0, 1, 0,\n",
       "       1, 1, 0, 1, 1, 0, 1, 1, 0, 0, 1, 0, 1, 0, 1, 0, 0, 1, 0, 0, 1, 0,\n",
       "       0, 0, 1, 0, 0, 1, 0, 1, 0, 1, 0, 1, 1, 0, 0, 1, 0, 0, 1, 1, 0, 1,\n",
       "       1, 0, 0, 1, 1, 0, 1, 0, 1, 1, 0, 0, 0, 0, 0, 0, 0, 0, 0, 1, 1, 1,\n",
       "       1, 1, 0, 0, 1, 1, 0, 1, 1, 1, 0, 0, 0, 1, 0, 1, 0, 0, 0, 1, 0, 0,\n",
       "       0, 0, 1, 0, 0, 1, 1, 0, 0, 0, 1, 0, 0, 1, 1, 1, 0, 0, 1, 0, 0, 1,\n",
       "       0, 0, 1, 0, 0, 1, 1, 0, 0, 0, 0, 1, 0, 0, 1, 0, 1, 0, 0, 1, 0, 0,\n",
       "       0, 0, 0, 1, 0, 1, 1, 1, 0, 1, 0, 1, 0, 1, 0, 1, 0, 0, 0, 0, 0, 0,\n",
       "       1, 0, 0, 0, 1, 0, 0, 0, 0, 1, 1, 0, 0, 1, 0, 0, 0, 1, 0, 1, 0, 1,\n",
       "       0, 0, 0, 0, 0, 0, 0, 1, 1, 1, 1, 0, 0, 0, 0, 1, 0, 0, 1, 1, 0, 0,\n",
       "       0, 0, 1, 1, 1, 1, 1, 0, 1, 0, 0, 0, 1, 1, 0, 0, 1, 0, 0, 0, 1, 0,\n",
       "       1, 1, 0, 0, 1, 0, 0, 0, 0, 0, 0, 1, 0, 0, 1, 0, 1, 0, 1, 0, 0, 1,\n",
       "       0, 0, 1, 1, 0, 0, 1, 1, 0, 0, 0, 1, 0, 0, 1, 1, 0, 1, 0, 0, 0, 0,\n",
       "       0, 0, 0, 0, 1, 0, 0, 1, 0, 1, 1, 1, 0, 0, 0, 0, 1, 0, 1, 0, 0, 0,\n",
       "       0, 0, 0, 0, 1, 1, 0, 0, 0, 1, 1, 1, 1, 0, 0, 0, 0, 1, 0, 0, 0, 0,\n",
       "       0, 0, 0, 0, 0, 0, 1, 1, 0, 1, 0, 0, 0, 1, 1, 1, 1, 1, 0, 0, 0, 1,\n",
       "       0, 0, 1, 1, 0, 0, 1, 0, 0, 0, 0, 0, 0, 1, 0, 0, 0, 1, 0, 1, 1, 1,\n",
       "       1, 0, 0, 0, 1, 0, 0, 1, 1, 0, 0, 1, 0, 1, 0, 0, 1, 1, 0, 0, 0, 1,\n",
       "       1, 0, 0, 0, 0, 0, 0, 1, 0, 1, 0])"
      ]
     },
     "execution_count": 33,
     "metadata": {},
     "output_type": "execute_result"
    }
   ],
   "source": [
    "y=train['Survived'].values\n",
    "y"
   ]
  },
  {
   "cell_type": "code",
   "execution_count": 34,
   "id": "edac58d7-3298-441a-9f6b-c99499900dfd",
   "metadata": {},
   "outputs": [],
   "source": [
    "train.drop(columns=['Survived'],inplace=True)\n"
   ]
  },
  {
   "cell_type": "code",
   "execution_count": 35,
   "id": "eed98b94-ea0b-459e-bc3f-06b588e7df4e",
   "metadata": {},
   "outputs": [
    {
     "name": "stdout",
     "output_type": "stream",
     "text": [
      "(891, 6)\n",
      "(418, 6)\n"
     ]
    }
   ],
   "source": [
    "print(train.shape)\n",
    "print(test.shape)"
   ]
  },
  {
   "cell_type": "code",
   "execution_count": 36,
   "id": "57b55cf5-072f-4583-a1fb-5873fe89a2fe",
   "metadata": {},
   "outputs": [],
   "source": [
    "final=pd.concat([train,test],ignore_index=True)\n"
   ]
  },
  {
   "cell_type": "code",
   "execution_count": 37,
   "id": "51c98f32-c1eb-4fe7-9acf-d35f9e7afe16",
   "metadata": {},
   "outputs": [
    {
     "data": {
      "text/plain": [
       "(1309, 6)"
      ]
     },
     "execution_count": 37,
     "metadata": {},
     "output_type": "execute_result"
    }
   ],
   "source": [
    "final.shape\n"
   ]
  },
  {
   "cell_type": "code",
   "execution_count": 38,
   "id": "ed5526b6-bf3b-4328-84f9-29096e33e5c8",
   "metadata": {},
   "outputs": [
    {
     "data": {
      "text/plain": [
       "np.int64(0)"
      ]
     },
     "execution_count": 38,
     "metadata": {},
     "output_type": "execute_result"
    }
   ],
   "source": [
    "train['Sex'].isnull().sum()"
   ]
  },
  {
   "cell_type": "code",
   "execution_count": 39,
   "id": "3be7ceb8-5c47-4418-972c-5c9573cbd15d",
   "metadata": {},
   "outputs": [],
   "source": [
    "from sklearn.preprocessing import OneHotEncoder,StandardScaler\n",
    "final[\"Sex\"] = final[\"Sex\"].map({\"male\": 0, \"female\": 1}) \n",
    "final[\"Embarked\"] = final[\"Embarked\"].map({\"S\": 0, \"C\": 1,\"Q\":2}) \n",
    "final[\"family_size\"] = final[\"family_size\"].map({\"Alone\": 0, \"Small\": 1,\"Large\":2}) \n"
   ]
  },
  {
   "cell_type": "code",
   "execution_count": 40,
   "id": "e3372087-e248-4e13-8a2d-97ad76f50d95",
   "metadata": {},
   "outputs": [
    {
     "name": "stdout",
     "output_type": "stream",
     "text": [
      "<class 'pandas.core.frame.DataFrame'>\n",
      "RangeIndex: 891 entries, 0 to 890\n",
      "Data columns (total 6 columns):\n",
      " #   Column       Non-Null Count  Dtype  \n",
      "---  ------       --------------  -----  \n",
      " 0   Pclass       891 non-null    int64  \n",
      " 1   Sex          891 non-null    object \n",
      " 2   Age          891 non-null    float64\n",
      " 3   Fare         891 non-null    float64\n",
      " 4   Embarked     891 non-null    object \n",
      " 5   family_size  891 non-null    object \n",
      "dtypes: float64(2), int64(1), object(3)\n",
      "memory usage: 41.9+ KB\n"
     ]
    }
   ],
   "source": [
    "train.info()"
   ]
  },
  {
   "cell_type": "raw",
   "id": "db98bbe5-f448-4f4d-997f-8c03471deb26",
   "metadata": {},
   "source": []
  },
  {
   "cell_type": "code",
   "execution_count": 41,
   "id": "f1da876c-0060-4c49-8093-7897466ca4fe",
   "metadata": {},
   "outputs": [
    {
     "data": {
      "text/plain": [
       "<bound method IndexOpsMixin.value_counts of 0        male\n",
       "1      female\n",
       "2      female\n",
       "3      female\n",
       "4        male\n",
       "        ...  \n",
       "886      male\n",
       "887    female\n",
       "888    female\n",
       "889      male\n",
       "890      male\n",
       "Name: Sex, Length: 891, dtype: object>"
      ]
     },
     "execution_count": 41,
     "metadata": {},
     "output_type": "execute_result"
    }
   ],
   "source": [
    "train['Sex'].value_counts"
   ]
  },
  {
   "cell_type": "code",
   "execution_count": 42,
   "id": "81a06cc0-04ab-4299-8097-e0bfa5772435",
   "metadata": {},
   "outputs": [
    {
     "data": {
      "text/plain": [
       "array([[-5.02445171e-01],\n",
       "       [ 7.86845294e-01],\n",
       "       [-4.88854258e-01],\n",
       "       [ 4.20730236e-01],\n",
       "       [-4.86337422e-01],\n",
       "       [-4.78116429e-01],\n",
       "       [ 3.95813561e-01],\n",
       "       [-2.24083121e-01],\n",
       "       [-4.24256141e-01],\n",
       "       [-4.29555021e-02],\n",
       "       [-3.12172378e-01],\n",
       "       [-1.13845709e-01],\n",
       "       [-4.86337422e-01],\n",
       "       [-1.87093118e-02],\n",
       "       [-4.90279793e-01],\n",
       "       [-3.26266659e-01],\n",
       "       [-6.19988892e-02],\n",
       "       [-3.86670720e-01],\n",
       "       [-2.85997284e-01],\n",
       "       [-5.02948539e-01],\n",
       "       [-1.24919787e-01],\n",
       "       [-3.86670720e-01],\n",
       "       [-4.86756223e-01],\n",
       "       [ 6.63597416e-02],\n",
       "       [-2.24083121e-01],\n",
       "       [-1.64441595e-02],\n",
       "       [-5.02948539e-01],\n",
       "       [ 4.64700108e+00],\n",
       "       [-4.89776426e-01],\n",
       "       [-4.89442190e-01],\n",
       "       [-9.02720170e-02],\n",
       "       [ 2.30172882e+00],\n",
       "       [-4.92377828e-01],\n",
       "       [-4.37007438e-01],\n",
       "       [ 1.00606170e+00],\n",
       "       [ 3.98582080e-01],\n",
       "       [-5.02863973e-01],\n",
       "       [-4.86337422e-01],\n",
       "       [-2.85997284e-01],\n",
       "       [-4.22073541e-01],\n",
       "       [-4.57645492e-01],\n",
       "       [-2.25593223e-01],\n",
       "       [-4.89442190e-01],\n",
       "       [ 1.88762532e-01],\n",
       "       [-4.89776426e-01],\n",
       "       [-4.86337422e-01],\n",
       "       [-3.36334002e-01],\n",
       "       [-4.92377828e-01],\n",
       "       [-2.11917743e-01],\n",
       "       [-2.90024222e-01],\n",
       "       [ 1.50673744e-01],\n",
       "       [-4.91371093e-01],\n",
       "       [ 8.96496787e-01],\n",
       "       [-1.24919787e-01],\n",
       "       [ 5.99510151e-01],\n",
       "       [ 6.63597416e-02],\n",
       "       [-4.37007438e-01],\n",
       "       [-5.02863973e-01],\n",
       "       [-8.96840841e-02],\n",
       "       [ 2.95895176e-01],\n",
       "       [-5.02863973e-01],\n",
       "       [ 9.62353321e-01],\n",
       "       [ 1.03232136e+00],\n",
       "       [-8.66638810e-02],\n",
       "       [-9.02720170e-02],\n",
       "       [-3.41452240e-01],\n",
       "       [-4.37007438e-01],\n",
       "       [-4.84156835e-01],\n",
       "       [-4.88854258e-01],\n",
       "       [-4.74004926e-01],\n",
       "       [-4.37007438e-01],\n",
       "       [ 2.95895176e-01],\n",
       "       [ 8.31477855e-01],\n",
       "       [-3.57390858e-01],\n",
       "       [ 4.89103607e-01],\n",
       "       [-4.94391297e-01],\n",
       "       [-4.89442190e-01],\n",
       "       [-4.86337422e-01],\n",
       "       [-6.45157251e-02],\n",
       "       [-3.97241431e-01],\n",
       "       [-4.67209469e-01],\n",
       "       [-4.57142125e-01],\n",
       "       [-4.91622777e-01],\n",
       "       [ 2.99922113e-01],\n",
       "       [-4.37007438e-01],\n",
       "       [-3.29286862e-01],\n",
       "       [ 4.37082185e-02],\n",
       "       [-4.86337422e-01],\n",
       "       [ 4.64700108e+00],\n",
       "       [-4.86337422e-01],\n",
       "       [-4.86337422e-01],\n",
       "       [-4.90279793e-01],\n",
       "       [ 5.83317835e-01],\n",
       "       [-2.34150465e-01],\n",
       "       [-5.02445171e-01],\n",
       "       [-4.86337422e-01],\n",
       "       [ 4.93298232e-02],\n",
       "       [ 6.27277898e-01],\n",
       "       [-1.85323848e-01],\n",
       "       [-1.24919787e-01],\n",
       "       [-4.89442190e-01],\n",
       "       [-4.89442190e-01],\n",
       "       [ 9.07737982e-01],\n",
       "       [-4.74172044e-01],\n",
       "       [-4.88854258e-01],\n",
       "       [-4.89442190e-01],\n",
       "       [-4.94391297e-01],\n",
       "       [-4.91874461e-01],\n",
       "       [-4.89442190e-01],\n",
       "       [-1.62168958e-01],\n",
       "       [ 3.98582080e-01],\n",
       "       [-3.57390858e-01],\n",
       "       [-4.86337422e-01],\n",
       "       [-4.50598352e-01],\n",
       "       [-3.57308306e-01],\n",
       "       [-4.88854258e-01],\n",
       "       [-4.92377828e-01],\n",
       "       [-2.25593223e-01],\n",
       "       [ 4.33533223e+00],\n",
       "       [-1.87093118e-02],\n",
       "       [ 8.31477855e-01],\n",
       "       [-4.86337422e-01],\n",
       "       [-4.29555021e-02],\n",
       "       [-3.86670720e-01],\n",
       "       [ 9.07737982e-01],\n",
       "       [-4.22073541e-01],\n",
       "       [-4.92377828e-01],\n",
       "       [-5.04625758e-01],\n",
       "       [-1.98244277e-01],\n",
       "       [-5.07982210e-01],\n",
       "       [-4.89442190e-01],\n",
       "       [-5.06472109e-01],\n",
       "       [-3.56468689e-01],\n",
       "       [-1.24919787e-01],\n",
       "       [-3.86670720e-01],\n",
       "       [-3.45479177e-01],\n",
       "       [-1.19215630e-01],\n",
       "       [ 4.20730236e-01],\n",
       "       [-4.62846282e-01],\n",
       "       [ 9.46245572e-01],\n",
       "       [-3.41452240e-01],\n",
       "       [-4.92377828e-01],\n",
       "       [-3.29286862e-01],\n",
       "       [-5.12512515e-01],\n",
       "       [-4.16872751e-01],\n",
       "       [ 9.15281006e-02],\n",
       "       [-4.91455659e-01],\n",
       "       [ 4.37082185e-02],\n",
       "       [-1.24919787e-01],\n",
       "       [-3.86670720e-01],\n",
       "       [-3.96234697e-01],\n",
       "       [ 6.92548513e-01],\n",
       "       [-4.86337422e-01],\n",
       "       [-3.56468689e-01],\n",
       "       [-5.01186753e-01],\n",
       "       [ 5.87429338e-01],\n",
       "       [-4.92714077e-01],\n",
       "       [-4.86337422e-01],\n",
       "       [-4.74004926e-01],\n",
       "       [ 7.51945840e-01],\n",
       "       [-3.24253190e-01],\n",
       "       [-3.31300330e-01],\n",
       "       [-4.91874461e-01],\n",
       "       [-4.74004926e-01],\n",
       "       [ 1.50673744e-01],\n",
       "       [-2.35157199e-01],\n",
       "       [ 4.58986142e-01],\n",
       "       [-8.66638810e-02],\n",
       "       [-1.26429888e-01],\n",
       "       [ 4.89103607e-01],\n",
       "       [ 2.60903672e-02],\n",
       "       [-6.19988892e-02],\n",
       "       [-4.24256141e-01],\n",
       "       [-4.88854258e-01],\n",
       "       [-3.03713226e-02],\n",
       "       [-4.90279793e-01],\n",
       "       [-1.35657615e-01],\n",
       "       [-7.03044477e-02],\n",
       "       [-3.86670720e-01],\n",
       "       [-6.48421654e-01],\n",
       "       [ 7.51945840e-01],\n",
       "       [-3.45394611e-01],\n",
       "       [-1.64441595e-02],\n",
       "       [ 1.36831147e-01],\n",
       "       [-2.04955168e-01],\n",
       "       [ 3.58312706e-01],\n",
       "       [-3.36334002e-01],\n",
       "       [-1.13845709e-01],\n",
       "       [-3.36334002e-01],\n",
       "       [-4.89442190e-01],\n",
       "       [-3.86670720e-01],\n",
       "       [-3.86670720e-01],\n",
       "       [-4.90279793e-01],\n",
       "       [-1.24919787e-01],\n",
       "       [-9.02720170e-02],\n",
       "       [ 2.30172882e+00],\n",
       "       [-4.92377828e-01],\n",
       "       [-4.79205715e-01],\n",
       "       [-4.92377828e-01],\n",
       "       [-3.86670720e-01],\n",
       "       [-4.57142125e-01],\n",
       "       [ 7.51945840e-01],\n",
       "       [-5.17630753e-01],\n",
       "       [-5.02948539e-01],\n",
       "       [-4.86337422e-01],\n",
       "       [-4.37762489e-01],\n",
       "       [-3.29286862e-01],\n",
       "       [-2.70141218e-01],\n",
       "       [-4.92377828e-01],\n",
       "       [-2.42463508e-02],\n",
       "       [-5.06472109e-01],\n",
       "       [-2.25593223e-01],\n",
       "       [-5.02445171e-01],\n",
       "       [-3.86670720e-01],\n",
       "       [-4.92377828e-01],\n",
       "       [ 1.63233504e+00],\n",
       "       [-4.88854258e-01],\n",
       "       [-1.04785100e-01],\n",
       "       [ 8.87687861e-01],\n",
       "       [-4.37007438e-01],\n",
       "       [-4.86337422e-01],\n",
       "       [-3.86670720e-01],\n",
       "       [-4.86337422e-01],\n",
       "       [-4.89442190e-01],\n",
       "       [ 1.16370019e+00],\n",
       "       [-4.60162328e-01],\n",
       "       [-4.37007438e-01],\n",
       "       [-5.02445171e-01],\n",
       "       [-3.86670720e-01],\n",
       "       [-1.35657615e-01],\n",
       "       [ 1.03232136e+00],\n",
       "       [-4.91874461e-01],\n",
       "       [-3.76603377e-01],\n",
       "       [-1.64441595e-02],\n",
       "       [-4.37007438e-01],\n",
       "       [-4.96404765e-01],\n",
       "       [-1.24919787e-01],\n",
       "       [-1.19886115e-01],\n",
       "       [-4.37007438e-01],\n",
       "       [-4.01268368e-01],\n",
       "       [-3.57390858e-01],\n",
       "       [-3.36334002e-01],\n",
       "       [-4.37007438e-01],\n",
       "       [-5.04962007e-01],\n",
       "       [-5.02948539e-01],\n",
       "       [ 1.16370019e+00],\n",
       "       [-4.91874461e-01],\n",
       "       [-3.56468689e-01],\n",
       "       [ 4.09740724e-01],\n",
       "       [-1.24919787e-01],\n",
       "       [-5.02445171e-01],\n",
       "       [-4.37762489e-01],\n",
       "       [-1.13845709e-01],\n",
       "       [-3.24253190e-01],\n",
       "       [-2.41449289e-01],\n",
       "       [-3.41452240e-01],\n",
       "       [ 9.46245572e-01],\n",
       "       [ 1.09322879e+00],\n",
       "       [ 9.66716653e+00],\n",
       "       [-1.24919787e-01],\n",
       "       [-4.92377828e-01],\n",
       "       [-1.64441595e-02],\n",
       "       [ 9.55306181e-01],\n",
       "       [-6.48421654e-01],\n",
       "       [-4.92377828e-01],\n",
       "       [-4.37007438e-01],\n",
       "       [ 1.50673744e-01],\n",
       "       [-4.91874461e-01],\n",
       "       [ 2.44149778e+00],\n",
       "       [ 2.08251241e+00],\n",
       "       [-2.42463508e-02],\n",
       "       [-6.48421654e-01],\n",
       "       [-2.55795253e-01],\n",
       "       [-5.04214441e-02],\n",
       "       [-4.92377828e-01],\n",
       "       [ 9.21244331e-01],\n",
       "       [-4.92377828e-01],\n",
       "       [-6.48421654e-01],\n",
       "       [-6.19988892e-02],\n",
       "       [-2.40694238e-01],\n",
       "       [-4.92377828e-01],\n",
       "       [-4.90279793e-01],\n",
       "       [-4.57142125e-01],\n",
       "       [-4.86337422e-01],\n",
       "       [-1.24919787e-01],\n",
       "       [-4.74004926e-01],\n",
       "       [-4.57142125e-01],\n",
       "       [-4.89442190e-01],\n",
       "       [-3.86670720e-01],\n",
       "       [-4.92377828e-01],\n",
       "       [ 9.39198431e-01],\n",
       "       [ 1.18542955e+00],\n",
       "       [-3.89187556e-01],\n",
       "       [-4.70229672e-01],\n",
       "       [-4.89442190e-01],\n",
       "       [-9.02720170e-02],\n",
       "       [-5.02863973e-01],\n",
       "       [ 2.40299019e+00],\n",
       "       [-3.43136943e-02],\n",
       "       [ 4.33533223e+00],\n",
       "       [-4.92377828e-01],\n",
       "       [-1.80290176e-01],\n",
       "       [-6.48421654e-01],\n",
       "       [-3.99758267e-01],\n",
       "       [-4.86337422e-01],\n",
       "       [ 2.40299019e+00],\n",
       "       [ 1.58417891e+00],\n",
       "       [ 1.54424578e+00],\n",
       "       [-1.65189161e-01],\n",
       "       [ 4.97829980e-01],\n",
       "       [ 1.02594470e+00],\n",
       "       [ 4.63441690e+00],\n",
       "       [-1.24919787e-01],\n",
       "       [-4.89442190e-01],\n",
       "       [-1.19886115e-01],\n",
       "       [-4.90279793e-01],\n",
       "       [-1.24919787e-01],\n",
       "       [-3.66536033e-01],\n",
       "       [ 2.67111778e+00],\n",
       "       [ 2.05969377e+00],\n",
       "       [-5.02445171e-01],\n",
       "       [-4.89442190e-01],\n",
       "       [-3.99758267e-01],\n",
       "       [-6.45157251e-02],\n",
       "       [ 7.51945840e-01],\n",
       "       [ 2.08251241e+00],\n",
       "       [-5.22831542e-01],\n",
       "       [-3.86670720e-01],\n",
       "       [-2.35157199e-01],\n",
       "       [ 5.18971402e-01],\n",
       "       [-1.80290176e-01],\n",
       "       [-7.45830687e-02],\n",
       "       [ 2.44149778e+00],\n",
       "       [-2.85997284e-01],\n",
       "       [ 2.04257929e+00],\n",
       "       [-4.89442190e-01],\n",
       "       [ 6.92548513e-01],\n",
       "       [ 2.05969377e+00],\n",
       "       [-4.86337422e-01],\n",
       "       [ 6.63597416e-02],\n",
       "       [-1.24919787e-01],\n",
       "       [ 4.64700108e+00],\n",
       "       [-3.86670720e-01],\n",
       "       [-3.86670720e-01],\n",
       "       [-3.86670720e-01],\n",
       "       [-3.86670720e-01],\n",
       "       [-3.86670720e-01],\n",
       "       [-3.24253190e-01],\n",
       "       [-3.28280127e-01],\n",
       "       [-4.74004926e-01],\n",
       "       [-4.62679164e-01],\n",
       "       [ 5.62923980e-02],\n",
       "       [-5.02863973e-01],\n",
       "       [-2.90024222e-01],\n",
       "       [-5.02948539e-01],\n",
       "       [-4.57142125e-01],\n",
       "       [ 4.58986142e-01],\n",
       "       [-3.86670720e-01],\n",
       "       [-4.89776426e-01],\n",
       "       [-4.89776426e-01],\n",
       "       [-8.66638810e-02],\n",
       "       [-9.02720170e-02],\n",
       "       [-3.57390858e-01],\n",
       "       [-5.06472109e-01],\n",
       "       [-3.36334002e-01],\n",
       "       [-5.02445171e-01],\n",
       "       [ 8.66713557e-01],\n",
       "       [-5.02863973e-01],\n",
       "       [-4.92377828e-01],\n",
       "       [ 7.46912168e-01],\n",
       "       [ 4.67879633e-01],\n",
       "       [-5.17630753e-01],\n",
       "       [-4.86337422e-01],\n",
       "       [ 2.08251241e+00],\n",
       "       [-2.24083121e-01],\n",
       "       [ 1.00606170e+00],\n",
       "       [-5.02445171e-01],\n",
       "       [ 3.61006469e+00],\n",
       "       [-5.67631221e-01],\n",
       "       [-4.91874461e-01],\n",
       "       [ 3.93272305e+00],\n",
       "       [-3.31467448e-01],\n",
       "       [-4.88854258e-01],\n",
       "       [ 3.98582080e-01],\n",
       "       [-4.89442190e-01],\n",
       "       [ 8.31477855e-01],\n",
       "       [ 2.95895176e-01],\n",
       "       [-3.86670720e-01],\n",
       "       [-4.92796629e-01],\n",
       "       [-4.06805407e-01],\n",
       "       [ 1.76774081e+00],\n",
       "       [-4.91455659e-01],\n",
       "       [-4.88854258e-01],\n",
       "       [ 1.63233504e+00],\n",
       "       [-3.12172378e-01],\n",
       "       [-4.91455659e-01],\n",
       "       [-4.90279793e-01],\n",
       "       [-1.24919787e-01],\n",
       "       [-4.37007438e-01],\n",
       "       [-3.93717861e-01],\n",
       "       [-4.88854258e-01],\n",
       "       [-4.86337422e-01],\n",
       "       [-4.50598352e-01],\n",
       "       [-3.29286862e-01],\n",
       "       [-4.74004926e-01],\n",
       "       [-2.25593223e-01],\n",
       "       [-4.92377828e-01],\n",
       "       [-2.70896269e-01],\n",
       "       [-4.91874461e-01],\n",
       "       [-1.35657615e-01],\n",
       "       [-4.89442190e-01],\n",
       "       [-5.10331928e-01],\n",
       "       [ 1.16370019e+00],\n",
       "       [-6.48421654e-01],\n",
       "       [-4.88854258e-01],\n",
       "       [-4.86337422e-01],\n",
       "       [ 5.95568003e-03],\n",
       "       [-3.86670720e-01],\n",
       "       [-3.86670720e-01],\n",
       "       [-1.62168958e-01],\n",
       "       [-4.89442190e-01],\n",
       "       [-4.92714077e-01],\n",
       "       [-4.89860992e-01],\n",
       "       [-3.58482158e-01],\n",
       "       [-2.41449289e-01],\n",
       "       [-5.02445171e-01],\n",
       "       [-1.24919787e-01],\n",
       "       [-1.24919787e-01],\n",
       "       [-4.92377828e-01],\n",
       "       [-4.86337422e-01],\n",
       "       [-1.13845709e-01],\n",
       "       [-3.24253190e-01],\n",
       "       [-1.24919787e-01],\n",
       "       [-5.04962007e-01],\n",
       "       [ 4.77107360e-01],\n",
       "       [ 1.76774081e+00],\n",
       "       [ 4.37082185e-02],\n",
       "       [-2.70896269e-01],\n",
       "       [ 4.64700108e+00],\n",
       "       [-4.37007438e-01],\n",
       "       [-1.19886115e-01],\n",
       "       [-4.57142125e-01],\n",
       "       [-4.91874461e-01],\n",
       "       [-3.86670720e-01],\n",
       "       [-4.85079004e-01],\n",
       "       [ 9.99769611e-01],\n",
       "       [-2.55795253e-01],\n",
       "       [-1.13845709e-01],\n",
       "       [-2.60661807e-01],\n",
       "       [-3.43136943e-02],\n",
       "       [-8.96840841e-02],\n",
       "       [-2.46398395e-01],\n",
       "       [-8.96840841e-02],\n",
       "       [ 1.14566354e+00],\n",
       "       [-4.86337422e-01],\n",
       "       [-4.89442190e-01],\n",
       "       [-1.13845709e-01],\n",
       "       [ 3.95813561e-01],\n",
       "       [-4.37007438e-01],\n",
       "       [-4.92377828e-01],\n",
       "       [-1.13845709e-01],\n",
       "       [-4.86337422e-01],\n",
       "       [ 1.26763803e-01],\n",
       "       [-3.86670720e-01],\n",
       "       [-4.86337422e-01],\n",
       "       [-5.06472109e-01],\n",
       "       [-6.48421654e-01],\n",
       "       [-1.13845709e-01],\n",
       "       [-4.92881195e-01],\n",
       "       [-2.60661807e-01],\n",
       "       [-5.02445171e-01],\n",
       "       [-4.74004926e-01],\n",
       "       [-8.96840841e-02],\n",
       "       [-3.70730088e-01],\n",
       "       [-4.50346668e-01],\n",
       "       [ 3.98582080e-01],\n",
       "       [-2.25593223e-01],\n",
       "       [-5.06556675e-01],\n",
       "       [-4.96992698e-01],\n",
       "       [-4.01016685e-01],\n",
       "       [ 2.95895176e-01],\n",
       "       [-6.48421654e-01],\n",
       "       [-4.86337422e-01],\n",
       "       [-4.55380340e-01],\n",
       "       [ 1.18542955e+00],\n",
       "       [-1.35657615e-01],\n",
       "       [ 1.16370019e+00],\n",
       "       [-5.04214441e-02],\n",
       "       [-4.86337422e-01],\n",
       "       [-3.28280127e-01],\n",
       "       [-2.46398395e-01],\n",
       "       [-5.02445171e-01],\n",
       "       [-3.43136943e-02],\n",
       "       [ 3.48329928e-01],\n",
       "       [-4.86337422e-01],\n",
       "       [-3.57308306e-01],\n",
       "       [ 9.27453868e-01],\n",
       "       [-3.44387877e-01],\n",
       "       [ 2.40299019e+00],\n",
       "       [-4.91455659e-01],\n",
       "       [-4.74004926e-01],\n",
       "       [-4.92377828e-01],\n",
       "       [-4.94810098e-01],\n",
       "       [-4.55380340e-01],\n",
       "       [ 1.09322879e+00],\n",
       "       [ 1.54424578e+00],\n",
       "       [-1.24919787e-01],\n",
       "       [-1.13845709e-01],\n",
       "       [-1.94887825e-01],\n",
       "       [ 4.89103607e-01],\n",
       "       [-4.92377828e-01],\n",
       "       [-4.86337422e-01],\n",
       "       [-1.19131064e-01],\n",
       "       [ 5.47578765e-01],\n",
       "       [-4.97496065e-01],\n",
       "       [ 3.65765123e-02],\n",
       "       [-4.37007438e-01],\n",
       "       [-1.62168958e-01],\n",
       "       [-1.24919787e-01],\n",
       "       [-4.89442190e-01],\n",
       "       [ 1.23417160e+00],\n",
       "       [-4.89442190e-01],\n",
       "       [-5.02948539e-01],\n",
       "       [ 5.18971402e-01],\n",
       "       [-5.02863973e-01],\n",
       "       [-4.92377828e-01],\n",
       "       [-4.37007438e-01],\n",
       "       [ 3.81703316e+00],\n",
       "       [-4.88854258e-01],\n",
       "       [-4.16872751e-01],\n",
       "       [-1.24919787e-01],\n",
       "       [-5.02863973e-01],\n",
       "       [-5.02863973e-01],\n",
       "       [-1.98244277e-01],\n",
       "       [-4.74004926e-01],\n",
       "       [-1.19886115e-01],\n",
       "       [-1.13845709e-01],\n",
       "       [ 1.49441243e+00],\n",
       "       [-3.56468689e-01],\n",
       "       [ 3.48245362e-01],\n",
       "       [ 7.81141137e-01],\n",
       "       [-1.87093118e-02],\n",
       "       [-1.87093118e-02],\n",
       "       [-1.24919787e-01],\n",
       "       [ 1.49441243e+00],\n",
       "       [-1.24919787e-01],\n",
       "       [-1.24919787e-01],\n",
       "       [-3.69304552e-01],\n",
       "       [-2.35157199e-01],\n",
       "       [ 9.15281006e-02],\n",
       "       [ 1.58417891e+00],\n",
       "       [-1.24919787e-01],\n",
       "       [-4.90783161e-01],\n",
       "       [-5.02948539e-01],\n",
       "       [-4.91874461e-01],\n",
       "       [-1.13845709e-01],\n",
       "       [ 1.48911959e-01],\n",
       "       [ 3.93272305e+00],\n",
       "       [ 9.55306181e-01],\n",
       "       [-2.98078096e-01],\n",
       "       [-4.92377828e-01],\n",
       "       [-4.89442190e-01],\n",
       "       [-3.76603377e-01],\n",
       "       [-4.86337422e-01],\n",
       "       [-4.86337422e-01],\n",
       "       [-1.62168958e-01],\n",
       "       [-4.89442190e-01],\n",
       "       [-2.24083121e-01],\n",
       "       [-5.02863973e-01],\n",
       "       [-4.90279793e-01],\n",
       "       [-4.37007438e-01],\n",
       "       [ 3.88095935e-01],\n",
       "       [-1.17117595e-01],\n",
       "       [-4.92377828e-01],\n",
       "       [-4.86337422e-01],\n",
       "       [-3.56468689e-01],\n",
       "       [-3.86670720e-01],\n",
       "       [ 4.77107360e-01],\n",
       "       [-3.57308306e-01],\n",
       "       [-4.88854258e-01],\n",
       "       [-4.43810379e-02],\n",
       "       [ 1.58417891e+00],\n",
       "       [-1.24919787e-01],\n",
       "       [ 1.59482670e-01],\n",
       "       [-4.72998191e-01],\n",
       "       [ 9.55306181e-01],\n",
       "       [-3.46401346e-01],\n",
       "       [ 9.46245572e-01],\n",
       "       [-4.86337422e-01],\n",
       "       [-4.86337422e-01],\n",
       "       [-5.04962007e-01],\n",
       "       [ 9.27453868e-01],\n",
       "       [-5.02445171e-01],\n",
       "       [-4.92377828e-01],\n",
       "       [-1.24919787e-01],\n",
       "       [-1.62168958e-01],\n",
       "       [ 1.60230236e-02],\n",
       "       [-6.48421654e-01],\n",
       "       [-5.02948539e-01],\n",
       "       [ 4.97829980e-01],\n",
       "       [-1.04785100e-01],\n",
       "       [-4.89442190e-01],\n",
       "       [ 2.05289083e-01],\n",
       "       [-4.86337422e-01],\n",
       "       [-1.13845709e-01],\n",
       "       [-3.35327268e-01],\n",
       "       [-4.89442190e-01],\n",
       "       [-3.43136943e-02],\n",
       "       [ 1.88762532e-01],\n",
       "       [ 2.44149778e+00],\n",
       "       [-1.87093118e-02],\n",
       "       [-5.06472109e-01],\n",
       "       [-3.36334002e-01],\n",
       "       [-4.92377828e-01],\n",
       "       [-4.86337422e-01],\n",
       "       [ 6.60333014e-01],\n",
       "       [-3.58482158e-01],\n",
       "       [-3.24253190e-01],\n",
       "       [ 1.36831147e-01],\n",
       "       [-4.37007438e-01],\n",
       "       [-3.57390858e-01],\n",
       "       [ 4.09740724e-01],\n",
       "       [-3.31467448e-01],\n",
       "       [-4.90279793e-01],\n",
       "       [-3.24253190e-01],\n",
       "       [ 2.34754408e-03],\n",
       "       [-3.99758267e-01],\n",
       "       [ 9.21244331e-01],\n",
       "       [-4.89442190e-01],\n",
       "       [-4.92714077e-01],\n",
       "       [-4.43810379e-02],\n",
       "       [-5.06387543e-01],\n",
       "       [-3.43136943e-02],\n",
       "       [-6.48421654e-01],\n",
       "       [-8.66638810e-02],\n",
       "       [-3.86670720e-01],\n",
       "       [-4.88854258e-01],\n",
       "       [-1.19886115e-01],\n",
       "       [ 1.50673744e-01],\n",
       "       [-3.24253190e-01],\n",
       "       [-4.90279793e-01],\n",
       "       [ 7.46912168e-01],\n",
       "       [-8.66638810e-02],\n",
       "       [ 4.89103607e-01],\n",
       "       [-2.60661807e-01],\n",
       "       [ 8.96496787e-01],\n",
       "       [-4.89442190e-01],\n",
       "       [ 6.63597416e-02],\n",
       "       [-4.96404765e-01],\n",
       "       [-4.96404765e-01],\n",
       "       [-4.89442190e-01],\n",
       "       [-1.85323848e-01],\n",
       "       [-4.78619796e-01],\n",
       "       [-4.90783161e-01],\n",
       "       [-5.12512515e-01],\n",
       "       [ 8.31477855e-01],\n",
       "       [-4.89442190e-01],\n",
       "       [-3.36334002e-01],\n",
       "       [-3.86670720e-01],\n",
       "       [ 1.63233504e+00],\n",
       "       [ 2.04257929e+00],\n",
       "       [-5.02948539e-01],\n",
       "       [-1.33225345e-01],\n",
       "       [-4.97496065e-01],\n",
       "       [-4.88854258e-01],\n",
       "       [ 8.31477855e-01],\n",
       "       [-3.86670720e-01],\n",
       "       [-4.91874461e-01],\n",
       "       [-4.86337422e-01],\n",
       "       [ 3.98582080e-01],\n",
       "       [ 1.36831147e-01],\n",
       "       [ 3.98582080e-01],\n",
       "       [-4.37007438e-01],\n",
       "       [-3.86670720e-01],\n",
       "       [-6.48421654e-01],\n",
       "       [-4.91874461e-01],\n",
       "       [-4.86337422e-01],\n",
       "       [-4.50262103e-01],\n",
       "       [ 2.95895176e-01],\n",
       "       [ 9.66716653e+00],\n",
       "       [-4.84575637e-01],\n",
       "       [ 8.96496787e-01],\n",
       "       [-4.62679164e-01],\n",
       "       [ 2.95895176e-01],\n",
       "       [ 1.36831147e-01],\n",
       "       [ 1.88762532e-01],\n",
       "       [ 1.50673744e-01],\n",
       "       [-4.43635777e-01],\n",
       "       [-4.91455659e-01],\n",
       "       [ 3.60679280e+00],\n",
       "       [ 4.99255516e-01],\n",
       "       [-3.78280596e-01],\n",
       "       [ 4.89103607e-01],\n",
       "       [-5.02948539e-01],\n",
       "       [-1.13845709e-01],\n",
       "       [-3.76603377e-01],\n",
       "       [-4.86337422e-01],\n",
       "       [-4.92714077e-01],\n",
       "       [ 1.58417891e+00],\n",
       "       [-4.94391297e-01],\n",
       "       [ 3.93272305e+00],\n",
       "       [-1.19131064e-01],\n",
       "       [-3.57390858e-01],\n",
       "       [-4.92544946e-01],\n",
       "       [-4.90279793e-01],\n",
       "       [-1.24919787e-01],\n",
       "       [-3.76603377e-01],\n",
       "       [-1.19131064e-01],\n",
       "       [ 2.40299019e+00],\n",
       "       [-3.41452240e-01],\n",
       "       [ 3.48329928e-01],\n",
       "       [-1.13845709e-01],\n",
       "       [ 3.98582080e-01],\n",
       "       [-4.57478375e-01],\n",
       "       [-3.86670720e-01],\n",
       "       [-4.94391297e-01],\n",
       "       [ 3.93272305e+00],\n",
       "       [-4.37007438e-01],\n",
       "       [-3.36334002e-01],\n",
       "       [-4.91874461e-01],\n",
       "       [ 1.60230236e-02],\n",
       "       [-5.06387543e-01],\n",
       "       [-3.86670720e-01],\n",
       "       [-3.86670720e-01],\n",
       "       [ 4.20730236e-01],\n",
       "       [-4.74004926e-01],\n",
       "       [-2.25593223e-01],\n",
       "       [-4.92629511e-01],\n",
       "       [-1.24919787e-01],\n",
       "       [-4.88854258e-01],\n",
       "       [ 3.60679280e+00],\n",
       "       [-2.70141218e-01],\n",
       "       [-6.48421654e-01],\n",
       "       [-3.86670720e-01],\n",
       "       [-3.86670720e-01],\n",
       "       [-3.24253190e-01],\n",
       "       [ 4.37082185e-02],\n",
       "       [ 9.66716653e+00],\n",
       "       [-4.89442190e-01],\n",
       "       [-4.89442190e-01],\n",
       "       [-4.43810379e-02],\n",
       "       [ 9.39198431e-01],\n",
       "       [ 4.63441690e+00],\n",
       "       [-3.24253190e-01],\n",
       "       [-4.88854258e-01],\n",
       "       [ 7.81141137e-01],\n",
       "       [-2.40694238e-01],\n",
       "       [-3.86670720e-01],\n",
       "       [ 4.20730236e-01],\n",
       "       [-4.92377828e-01],\n",
       "       [-1.85323848e-01],\n",
       "       [-3.97241431e-01],\n",
       "       [-4.57142125e-01],\n",
       "       [-4.89442190e-01],\n",
       "       [ 6.60333014e-01],\n",
       "       [-3.56468689e-01],\n",
       "       [-4.91455659e-01],\n",
       "       [-4.16872751e-01],\n",
       "       [-4.86337422e-01],\n",
       "       [ 1.09322879e+00],\n",
       "       [-3.56468689e-01],\n",
       "       [-5.04962007e-01],\n",
       "       [-5.02863973e-01],\n",
       "       [ 1.76774081e+00],\n",
       "       [-4.91874461e-01],\n",
       "       [ 9.21244331e-01],\n",
       "       [ 1.48911959e-01],\n",
       "       [-4.92377828e-01],\n",
       "       [-1.62168958e-01],\n",
       "       [-4.80045332e-01],\n",
       "       [-4.57142125e-01],\n",
       "       [-4.90279793e-01],\n",
       "       [-4.37007438e-01],\n",
       "       [-5.02948539e-01],\n",
       "       [-1.85323848e-01],\n",
       "       [-4.92377828e-01],\n",
       "       [-4.92377828e-01],\n",
       "       [-3.97241431e-01],\n",
       "       [-4.92629511e-01],\n",
       "       [ 3.60679280e+00],\n",
       "       [-5.02863973e-01],\n",
       "       [ 4.99255516e-01],\n",
       "       [-4.43810379e-02],\n",
       "       [-1.76263239e-01],\n",
       "       [-5.06472109e-01],\n",
       "       [-5.02445171e-01],\n",
       "       [-4.97496065e-01],\n",
       "       [-6.19988892e-02],\n",
       "       [-2.34150465e-01],\n",
       "       [ 9.46245572e-01],\n",
       "       [-4.92377828e-01],\n",
       "       [-1.24919787e-01],\n",
       "       [ 7.51945840e-01],\n",
       "       [-3.03713226e-02],\n",
       "       [-4.89442190e-01],\n",
       "       [-3.86670720e-01],\n",
       "       [-1.26345323e-01],\n",
       "       [-4.73586124e-01],\n",
       "       [-5.02863973e-01],\n",
       "       [-1.62168958e-01],\n",
       "       [-3.86670720e-01],\n",
       "       [-1.19886115e-01],\n",
       "       [ 1.76774081e+00],\n",
       "       [-4.76940563e-01],\n",
       "       [-5.07982210e-01],\n",
       "       [-4.91874461e-01],\n",
       "       [-6.48421654e-01],\n",
       "       [-4.91874461e-01],\n",
       "       [-3.86670720e-01],\n",
       "       [ 4.20730236e-01],\n",
       "       [-4.89609308e-01],\n",
       "       [-1.62168958e-01],\n",
       "       [-4.37007438e-01],\n",
       "       [-1.87093118e-02],\n",
       "       [-4.86337422e-01],\n",
       "       [-6.48421654e-01],\n",
       "       [-4.88854258e-01],\n",
       "       [ 9.66463381e-02],\n",
       "       [-5.18552921e-01],\n",
       "       [-8.66638810e-02],\n",
       "       [ 1.23417160e+00],\n",
       "       [-4.74004926e-01],\n",
       "       [-6.48421654e-01],\n",
       "       [-3.97241431e-01],\n",
       "       [ 1.50673744e-01],\n",
       "       [-5.08485578e-01],\n",
       "       [ 4.89103607e-01],\n",
       "       [ 9.66463381e-02],\n",
       "       [-4.92377828e-01],\n",
       "       [ 9.62353321e-01],\n",
       "       [-3.57390858e-01],\n",
       "       [-2.70896269e-01],\n",
       "       [-5.02863973e-01],\n",
       "       [-4.90279793e-01],\n",
       "       [-4.81303750e-01],\n",
       "       [ 1.02594470e+00],\n",
       "       [-4.74004926e-01],\n",
       "       [-4.86337422e-01],\n",
       "       [ 4.89103607e-01],\n",
       "       [-5.04214441e-02],\n",
       "       [-4.88854258e-01],\n",
       "       [-4.37007438e-01],\n",
       "       [-2.42463508e-02],\n",
       "       [-5.18804605e-01],\n",
       "       [-4.74004926e-01],\n",
       "       [-4.96404765e-01],\n",
       "       [ 7.51945840e-01],\n",
       "       [-4.89442190e-01],\n",
       "       [ 1.60230236e-02],\n",
       "       [ 1.14566354e+00],\n",
       "       [-1.87093118e-02],\n",
       "       [-4.91874461e-01],\n",
       "       [-3.41452240e-01],\n",
       "       [ 1.44885022e-01],\n",
       "       [-1.24919787e-01],\n",
       "       [-4.60162328e-01],\n",
       "       [ 2.67111778e+00],\n",
       "       [-1.13845709e-01],\n",
       "       [-2.60661807e-01],\n",
       "       [-5.02863973e-01],\n",
       "       [-3.64355446e-01],\n",
       "       [-4.16872751e-01],\n",
       "       [-1.26345323e-01],\n",
       "       [ 7.51945840e-01],\n",
       "       [-3.86670720e-01],\n",
       "       [-3.86670720e-01],\n",
       "       [-3.69389118e-01],\n",
       "       [ 3.68295484e-01],\n",
       "       [-4.57142125e-01],\n",
       "       [-4.24256141e-01],\n",
       "       [-4.89442190e-01],\n",
       "       [ 4.09740724e-01],\n",
       "       [-5.47748218e-01],\n",
       "       [-4.67209469e-01],\n",
       "       [-1.65189161e-01],\n",
       "       [-5.02948539e-01],\n",
       "       [-4.50179550e-01],\n",
       "       [-4.89442190e-01],\n",
       "       [-4.89442190e-01],\n",
       "       [ 1.02594470e+00],\n",
       "       [-1.24919787e-01],\n",
       "       [-4.89442190e-01],\n",
       "       [-4.36671189e-01],\n",
       "       [-4.37007438e-01],\n",
       "       [-5.06472109e-01],\n",
       "       [-6.19988892e-02],\n",
       "       [-3.86670720e-01],\n",
       "       [-4.43810379e-02],\n",
       "       [-1.76263239e-01],\n",
       "       [-4.43810379e-02],\n",
       "       [-4.92377828e-01]])"
      ]
     },
     "execution_count": 42,
     "metadata": {},
     "output_type": "execute_result"
    }
   ],
   "source": [
    "sca=StandardScaler()\n",
    "sca.fit_transform(train[['Fare']])"
   ]
  },
  {
   "cell_type": "code",
   "execution_count": 43,
   "id": "46e44bec-9f37-43f7-9d7d-48be62f20275",
   "metadata": {},
   "outputs": [
    {
     "name": "stdout",
     "output_type": "stream",
     "text": [
      "<class 'pandas.core.frame.DataFrame'>\n",
      "RangeIndex: 891 entries, 0 to 890\n",
      "Data columns (total 6 columns):\n",
      " #   Column       Non-Null Count  Dtype  \n",
      "---  ------       --------------  -----  \n",
      " 0   Pclass       891 non-null    int64  \n",
      " 1   Sex          891 non-null    object \n",
      " 2   Age          891 non-null    float64\n",
      " 3   Fare         891 non-null    float64\n",
      " 4   Embarked     891 non-null    object \n",
      " 5   family_size  891 non-null    object \n",
      "dtypes: float64(2), int64(1), object(3)\n",
      "memory usage: 41.9+ KB\n"
     ]
    }
   ],
   "source": [
    "train.info()"
   ]
  },
  {
   "cell_type": "code",
   "execution_count": 44,
   "id": "9780383f-fa0f-44d6-9008-cf373c6e9224",
   "metadata": {},
   "outputs": [
    {
     "data": {
      "text/plain": [
       "0      3\n",
       "1      1\n",
       "2      3\n",
       "3      1\n",
       "4      3\n",
       "      ..\n",
       "886    2\n",
       "887    1\n",
       "888    3\n",
       "889    1\n",
       "890    3\n",
       "Name: Pclass, Length: 891, dtype: int64"
      ]
     },
     "execution_count": 44,
     "metadata": {},
     "output_type": "execute_result"
    }
   ],
   "source": [
    "train['Pclass']"
   ]
  },
  {
   "cell_type": "code",
   "execution_count": 45,
   "id": "6033d28d-6488-41af-a9fc-aa20026f2c4a",
   "metadata": {},
   "outputs": [
    {
     "data": {
      "text/plain": [
       "Pclass         0\n",
       "Sex            0\n",
       "Age            0\n",
       "Fare           0\n",
       "Embarked       0\n",
       "family_size    0\n",
       "dtype: int64"
      ]
     },
     "execution_count": 45,
     "metadata": {},
     "output_type": "execute_result"
    }
   ],
   "source": [
    "Xf=final.tail(418).values\n",
    "X=final.head(891).values\n",
    "final.isnull().sum()"
   ]
  },
  {
   "cell_type": "code",
   "execution_count": 46,
   "id": "2fc26889-3b92-4431-9a0c-688d74a68113",
   "metadata": {},
   "outputs": [
    {
     "data": {
      "text/plain": [
       "(891, 6)"
      ]
     },
     "execution_count": 46,
     "metadata": {},
     "output_type": "execute_result"
    }
   ],
   "source": [
    "X.shape\n"
   ]
  },
  {
   "cell_type": "code",
   "execution_count": 47,
   "id": "03b56672-5c89-483f-9dce-7cc81fc23b46",
   "metadata": {},
   "outputs": [],
   "source": [
    "from sklearn.model_selection import train_test_split\n",
    "from sklearn.model_selection import GridSearchCV\n",
    "from sklearn.model_selection import cross_val_score\n",
    "X_train, X_test, y_train, y_test=train_test_split(X,y,test_size=0.2,random_state=42)"
   ]
  },
  {
   "cell_type": "code",
   "execution_count": 48,
   "id": "34bc494b-f48e-4241-bc4b-79c507bfeb1d",
   "metadata": {},
   "outputs": [],
   "source": [
    "lr_params = {\n",
    "    \"C\": [0.01, 0.1, 1, 10],\n",
    "    \"solver\": [\"liblinear\", \"lbfgs\"],\n",
    "}"
   ]
  },
  {
   "cell_type": "code",
   "execution_count": 49,
   "id": "9800460c-326b-4bdf-bedf-3148767c818f",
   "metadata": {},
   "outputs": [],
   "source": [
    "from sklearn.linear_model import LogisticRegression\n",
    "lr=LogisticRegression()\n",
    "grid_search_lr = GridSearchCV(lr, param_grid=lr_params, cv=5, scoring=\"accuracy\", n_jobs=-1)\n",
    "grid_search_lr.fit(X_train,y_train)\n",
    "grid_lr=grid_search_lr.best_estimator_\n"
   ]
  },
  {
   "cell_type": "code",
   "execution_count": 50,
   "id": "b71986aa-cee7-48cc-b911-49a17b496bd3",
   "metadata": {},
   "outputs": [],
   "source": [
    "rf_params = {\n",
    "    \"n_estimators\": [100, 200, 300],\n",
    "    \"max_depth\": [4, 6, 8],\n",
    "    \"min_samples_split\": [2, 5, 10],\n",
    "}"
   ]
  },
  {
   "cell_type": "code",
   "execution_count": 51,
   "id": "1f3a5bfd-992d-4fa5-a9c2-0f3cc495df7a",
   "metadata": {},
   "outputs": [],
   "source": [
    "from sklearn.ensemble import RandomForestClassifier\n",
    "rf=RandomForestClassifier(n_estimators=100)\n",
    "rf = RandomForestClassifier()\n",
    "grid_search_rf = GridSearchCV(rf, param_grid=rf_params, cv=5, scoring=\"accuracy\", n_jobs=-1)\n",
    "grid_search_rf.fit(X_train, y_train)\n",
    "grid_rf=grid_search_rf.best_estimator_\n"
   ]
  },
  {
   "cell_type": "code",
   "execution_count": 52,
   "id": "8eceeffb-6a5b-4310-87e6-f9b437ed7ef3",
   "metadata": {},
   "outputs": [
    {
     "name": "stdout",
     "output_type": "stream",
     "text": [
      "0.83\n"
     ]
    }
   ],
   "source": [
    "from sklearn.ensemble import GradientBoostingClassifier\n",
    "gra=GradientBoostingClassifier(loss='log_loss',n_estimators=50)\n",
    "gra.fit(X_train,y_train)\n",
    "y_pred=gra.predict(X_test)\n",
    "x = cross_val_score(gra,X_train,y_train,cv=10,scoring='accuracy')\n",
    "print(np.round(np.mean(x),2))\n"
   ]
  },
  {
   "cell_type": "code",
   "execution_count": 53,
   "id": "f9a90d31-3c5b-4176-963a-3e66261784d8",
   "metadata": {},
   "outputs": [],
   "source": [
    "param_grid = {\n",
    "    'n_estimators': [100, 200, 300],  \n",
    "    'learning_rate': [0.01, 0.05, 0.1, 0.2],  \n",
    "    'max_depth': [None,3, 5, 7],  \n",
    "    'min_samples_split': [2, 5, 10],  \n",
    "    'max_features': ['sqrt', 'log2', None],  \n",
    "}\n"
   ]
  },
  {
   "cell_type": "code",
   "execution_count": 54,
   "id": "f3c742ca-dd1a-409d-885b-8ded7f1328b8",
   "metadata": {},
   "outputs": [
    {
     "name": "stdout",
     "output_type": "stream",
     "text": [
      "0.83\n"
     ]
    }
   ],
   "source": [
    "from sklearn.model_selection import GridSearchCV\n",
    "model=GridSearchCV(estimator=gra,\n",
    "                   param_grid=param_grid,\n",
    "                  cv=3, n_jobs=-1)\n",
    "model.fit(X_train,y_train)\n",
    "x=model.best_score_\n",
    "print(np.round(np.mean(x),2))\n",
    "grid_gra=model.best_estimator_\n"
   ]
  },
  {
   "cell_type": "code",
   "execution_count": 55,
   "id": "44304a1e-41ef-45a5-a19b-8f4989627aff",
   "metadata": {},
   "outputs": [],
   "source": [
    "estimators = [('gra',grid_gra),('rf',grid_rf),('log',grid_lr)]"
   ]
  },
  {
   "cell_type": "code",
   "execution_count": 56,
   "id": "4e71e646-863f-410d-b80c-4f56c9fabc4a",
   "metadata": {},
   "outputs": [
    {
     "name": "stdout",
     "output_type": "stream",
     "text": [
      "0.83\n"
     ]
    }
   ],
   "source": [
    "from sklearn.ensemble import VotingClassifier\n",
    "vc = VotingClassifier(estimators=estimators,voting='soft')\n",
    "vc.fit(X_train, y_train)\n",
    "\n",
    "x = cross_val_score(vc,X_train,y_train,cv=10,scoring='accuracy')\n",
    "print(np.round(np.mean(x),2))"
   ]
  },
  {
   "cell_type": "code",
   "execution_count": 61,
   "id": "657baa88-7575-45f4-b351-7f01505f08a4",
   "metadata": {},
   "outputs": [
    {
     "name": "stdout",
     "output_type": "stream",
     "text": [
      "0.79\n"
     ]
    }
   ],
   "source": [
    "from xgboost import XGBClassifier\n",
    "xgb=XGBClassifier()\n",
    "xgb.fit(X_train,y_train)\n",
    "y_pred_xgb=xgb.predict(X_test)\n",
    "x=cross_val_score(xgb,X_train,y_train,cv=10,scoring='accuracy')\n",
    "print(np.round(np.mean(x),2))"
   ]
  },
  {
   "cell_type": "code",
   "execution_count": 62,
   "id": "81e14a45-cf50-4eca-a39e-ec907a7051a9",
   "metadata": {},
   "outputs": [],
   "source": [
    "params = {\n",
    "    'max_depth': [3, 5, 7],\n",
    "    'learning_rate': [0.01, 0.1, 0.2],\n",
    "    'n_estimators': [100, 200, 300]\n",
    "}"
   ]
  },
  {
   "cell_type": "code",
   "execution_count": 64,
   "id": "5dbb3b4c-491c-4542-b37f-97e1db8d417c",
   "metadata": {},
   "outputs": [
    {
     "name": "stdout",
     "output_type": "stream",
     "text": [
      "0.83\n"
     ]
    }
   ],
   "source": [
    "grid=GridSearchCV(xgb,param_grid=params, scoring='accuracy', cv=3)\n",
    "grid.fit(X_train,y_train)\n",
    "x=grid.best_score_\n",
    "print(np.round(np.mean(x),2))"
   ]
  },
  {
   "cell_type": "code",
   "execution_count": 65,
   "id": "52a7b1dc-320b-402c-b911-50b6c9123991",
   "metadata": {},
   "outputs": [
    {
     "data": {
      "text/plain": [
       "array([0, 0, 0, 0, 1, 0, 1, 0, 1, 0, 0, 0, 1, 0, 1, 1, 0, 0, 0, 1, 0, 0,\n",
       "       1, 0, 1, 0, 1, 0, 0, 0, 0, 0, 1, 0, 0, 0, 0, 0, 0, 0, 0, 0, 0, 1,\n",
       "       1, 0, 0, 0, 1, 1, 0, 0, 1, 1, 0, 0, 0, 0, 0, 1, 0, 0, 0, 1, 0, 1,\n",
       "       1, 0, 0, 1, 1, 0, 0, 0, 1, 0, 0, 1, 0, 1, 1, 0, 0, 0, 0, 0, 1, 0,\n",
       "       1, 1, 1, 0, 1, 0, 0, 0, 1, 0, 0, 0, 1, 0, 0, 0, 1, 0, 0, 0, 0, 0,\n",
       "       0, 1, 1, 1, 1, 0, 0, 1, 0, 1, 1, 0, 1, 0, 0, 1, 0, 1, 0, 0, 0, 0,\n",
       "       0, 0, 0, 0, 0, 0, 0, 0, 0, 1, 0, 0, 0, 0, 0, 0, 0, 0, 1, 0, 0, 1,\n",
       "       0, 0, 1, 0, 0, 1, 1, 0, 1, 0, 0, 1, 0, 0, 1, 0, 0, 0, 0, 0, 0, 1,\n",
       "       1, 0, 1, 1, 0, 0, 1, 0, 1, 0, 1, 0, 0, 0, 0, 0, 0, 0, 0, 0, 1, 1,\n",
       "       0, 0, 1, 1, 0, 1, 0, 0, 1, 0, 1, 0, 0, 0, 0, 1, 0, 0, 1, 0, 1, 0,\n",
       "       1, 0, 1, 0, 1, 1, 0, 1, 0, 0, 0, 1, 0, 0, 0, 0, 0, 0, 1, 1, 1, 1,\n",
       "       0, 0, 0, 0, 1, 0, 1, 1, 1, 0, 0, 0, 0, 0, 0, 0, 1, 0, 0, 0, 1, 1,\n",
       "       0, 0, 0, 0, 0, 0, 0, 0, 1, 1, 0, 1, 0, 0, 0, 0, 0, 1, 1, 1, 1, 0,\n",
       "       0, 0, 0, 0, 0, 1, 0, 0, 0, 0, 1, 0, 0, 0, 0, 0, 0, 0, 1, 1, 0, 1,\n",
       "       0, 0, 0, 0, 0, 1, 1, 1, 0, 0, 0, 0, 0, 0, 0, 0, 1, 0, 1, 0, 0, 0,\n",
       "       1, 0, 0, 1, 0, 0, 0, 0, 0, 0, 0, 0, 0, 1, 0, 1, 0, 1, 0, 1, 1, 0,\n",
       "       0, 0, 1, 0, 1, 0, 0, 1, 0, 1, 1, 0, 1, 0, 0, 1, 1, 0, 0, 1, 0, 0,\n",
       "       1, 1, 0, 0, 0, 0, 0, 0, 1, 1, 0, 1, 0, 0, 0, 0, 0, 1, 0, 0, 0, 1,\n",
       "       0, 1, 0, 0, 1, 0, 1, 0, 0, 0, 0, 0, 1, 1, 1, 1, 0, 0, 1, 0, 0, 0])"
      ]
     },
     "execution_count": 65,
     "metadata": {},
     "output_type": "execute_result"
    }
   ],
   "source": [
    "yf=vc.predict(Xf)\n",
    "yf"
   ]
  },
  {
   "cell_type": "code",
   "execution_count": 66,
   "id": "405ec5a2-0996-4e52-87ec-91619fe9c430",
   "metadata": {},
   "outputs": [],
   "source": [
    "submission=pd.DataFrame()\n"
   ]
  },
  {
   "cell_type": "code",
   "execution_count": 67,
   "id": "414bf703-b630-497d-aeb6-9d9effe61fa0",
   "metadata": {},
   "outputs": [],
   "source": [
    "submission['PassengerId']=PassengerId\n",
    "submission['Survived']=yf"
   ]
  },
  {
   "cell_type": "code",
   "execution_count": 68,
   "id": "d4120d69-b016-4a07-a56a-1f54b0393921",
   "metadata": {},
   "outputs": [],
   "source": [
    "submission.to_csv('submission1.csv', index=False)\n"
   ]
  },
  {
   "cell_type": "code",
   "execution_count": null,
   "id": "c36ba8bf-378f-4af7-a24e-e30ea80fefa1",
   "metadata": {},
   "outputs": [],
   "source": []
  }
 ],
 "metadata": {
  "kernelspec": {
   "display_name": "Python 3 (ipykernel)",
   "language": "python",
   "name": "python3"
  },
  "language_info": {
   "codemirror_mode": {
    "name": "ipython",
    "version": 3
   },
   "file_extension": ".py",
   "mimetype": "text/x-python",
   "name": "python",
   "nbconvert_exporter": "python",
   "pygments_lexer": "ipython3",
   "version": "3.12.10"
  }
 },
 "nbformat": 4,
 "nbformat_minor": 5
}
